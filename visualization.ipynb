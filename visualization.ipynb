{
 "cells": [
  {
   "cell_type": "code",
   "execution_count": 1,
   "id": "47da3c12",
   "metadata": {},
   "outputs": [],
   "source": [
    "#import matplotlib.image as mpimg"
   ]
  },
  {
   "cell_type": "markdown",
   "id": "8c74271f",
   "metadata": {},
   "source": [
    "<h3> Wizualizacja węzłów siatki </h3>"
   ]
  },
  {
   "cell_type": "code",
   "execution_count": 1,
   "id": "c32ffc87",
   "metadata": {},
   "outputs": [],
   "source": [
    "def nodes_visualization(nodes, P = 'p'):\n",
    "    \"\"\"\n",
    "        Wizualizacja węzłów siatki.\n",
    "        input: nodes - np.array(),  węzły w postaci wektorów;\n",
    "               P - string, dla jakiej szukanej to wizualizacja\n",
    "    \"\"\"\n",
    "    \n",
    "    if P == 'p':\n",
    "        title = 'Siatka dla ciśnienia' + ', h = ' + str(h_size) + '.'\n",
    "    else:\n",
    "        title = 'Siatka dla prędkości' + ', h = ' + str(h_size) + '.'\n",
    "\n",
    "    fig, axes = plt.subplots(nrows=1, ncols=1, figsize=(8,6))\n",
    "    plt.plot(nodes[:, 0], nodes[:, 1], '.')  # utworzenie wykresu\n",
    "    plt.title(title)  # tytuł\n",
    "    plt.show()  # wyświetlenie wykresu na ekran\n",
    "    "
   ]
  },
  {
   "cell_type": "markdown",
   "id": "d7a55ea8",
   "metadata": {},
   "source": [
    "<h4> Naniesienie wyników na macierz reprezentacji  </h4>"
   ]
  },
  {
   "cell_type": "code",
   "execution_count": 5,
   "id": "d1d13d21",
   "metadata": {},
   "outputs": [],
   "source": [
    "def function_values_matrix(X, Y, nodes, results, C):\n",
    "    \"\"\"\n",
    "        Funkcja licząca wartość funkcji dla każdego węzła i przypisująca wynik do macierzy C wartości funkcji na węzłach.\n",
    "        input: macierz C wartości funkcji na węzłach, tablica X będąca podziałką na osi x wg. szerokości węzła,\n",
    "        tablica Y będąca podziałką na osi y wg. wysokości węzła\n",
    "    \"\"\"\n",
    "\n",
    "    x_gap = X[1] - X[0]  # jaka jest przerwa pomiedzy x-ami\n",
    "    y_gap = Y[1] - Y[0]  # jaka jest przerwa pomiedzy y-ami\n",
    "\n",
    "    for k in range(nodes.shape[0]):  # dla każdego wierzchołka\n",
    "        x = float(nodes[k, 0])  # sprawdzamy jego wartość na osi x\n",
    "        y = float(nodes[k, 1])  # sprawdzamy jego wartość na osi y\n",
    "\n",
    "        i = int(np.around((x - X[0]) / x_gap,0))  # obliczamy jego indeks na osi x\n",
    "        j = int(np.around((y - Y[0]) / y_gap,0))  # obliczamy jego indeks na osi y\n",
    "        \n",
    "        C[j,i] = results[k]  # wstawiamy wartość w odpowiednie miejsce macierzy\n"
   ]
  },
  {
   "cell_type": "markdown",
   "id": "b2720a5f-8884-47c8-8f71-f707bdcacf11",
   "metadata": {},
   "source": [
    "<h3>Wizualizacja rozwiązania</h3>"
   ]
  },
  {
   "cell_type": "code",
   "execution_count": null,
   "id": "2c30019b",
   "metadata": {},
   "outputs": [],
   "source": [
    "def function_visualization(C, X, Y, nodes, results, cmap):\n",
    "    \"\"\"\n",
    "    funkcja wizualizująca obszar wg. wartości funkcji na węzłach siatki\n",
    "    input: macierz C wartości funkcji na węzłach, tablica X będąca podziałką na osi x\n",
    "    wg. szerokości węzła, tablica Y będąca podziałką na osi y wg. wysokości węzła,\n",
    "    tablica obstacle zawierająca węzły definiująca przeszkodę\n",
    "    \"\"\"\n",
    "    \n",
    "    # Ustawienia wizualizacji\n",
    "    \n",
    "    if cmap == 'p':\n",
    "        cmap = 'inferno'\n",
    "        title = 'Wizualizacja ciśnienia, h = ' + str(h_size) + ', \\u03BD = ' + str(viscosity) \n",
    "    else:\n",
    "        cmap = 'viridis'\n",
    "        title = 'Wizualizacja normy euklidesowej prędkości, h = ' + str(h_size) + ', \\u03BD = ' + str(viscosity) \n",
    "    \n",
    "    min_bar = np.amin(results)  # wartości ekstremalne wektora\n",
    "    max_bar = np.amax(results)\n",
    "\n",
    "    fig, axes = plt.subplots(nrows=1, ncols=1, figsize=(16,9))\n",
    "    plt.title(title)\n",
    "\n",
    "    function_values_matrix(X, Y, nodes, results[:, 1], C)  # liczymy wartości funkcji w węzłach\n",
    "\n",
    "    im = axes.imshow(C, cmap=cmap, interpolation='bilinear', origin='lower', extent=[X[0], X[-1], Y[0], Y[-1]],\n",
    "                             vmin=min_bar,\n",
    "                             vmax=max_bar)  # extent żeby macierz pasowała do naszego problemu\n",
    "    # ( przesuniecie o 1 w indeksie wiersza/kolumny to przesuniecie o 1 w tablicy X/Y\n",
    "\n",
    "    fig.colorbar(im, ax=axes, location='right')  # legenda\n",
    "\n",
    "    plt.show()\n"
   ]
  }
 ],
 "metadata": {
  "kernelspec": {
   "display_name": "Python 3 (ipykernel)",
   "language": "python",
   "name": "python3"
  },
  "language_info": {
   "codemirror_mode": {
    "name": "ipython",
    "version": 3
   },
   "file_extension": ".py",
   "mimetype": "text/x-python",
   "name": "python",
   "nbconvert_exporter": "python",
   "pygments_lexer": "ipython3",
   "version": "3.9.7"
  }
 },
 "nbformat": 4,
 "nbformat_minor": 5
}

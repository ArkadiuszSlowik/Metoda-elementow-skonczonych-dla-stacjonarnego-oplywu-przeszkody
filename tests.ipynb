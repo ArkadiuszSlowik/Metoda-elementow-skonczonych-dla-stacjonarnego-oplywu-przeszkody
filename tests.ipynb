{
 "cells": [
  {
   "cell_type": "markdown",
   "id": "4ce61fbd",
   "metadata": {},
   "source": [
    "<h3>Testy dla macierzy masy</h3>"
   ]
  },
  {
   "cell_type": "code",
   "execution_count": 24,
   "id": "f18ec59a",
   "metadata": {
    "tags": []
   },
   "outputs": [
    {
     "ename": "ValueError",
     "evalue": "too many values to unpack (expected 3)",
     "output_type": "error",
     "traceback": [
      "\u001b[1;31m---------------------------------------------------------------------------\u001b[0m",
      "\u001b[1;31mValueError\u001b[0m                                Traceback (most recent call last)",
      "\u001b[1;32m~\\anaconda3\\lib\\site-packages\\pycodestyle_magic.py\u001b[0m in \u001b[0;36mauto_run_pycodestyle\u001b[1;34m(self, result)\u001b[0m\n\u001b[0;32m     44\u001b[0m \u001b[1;33m\u001b[0m\u001b[0m\n\u001b[0;32m     45\u001b[0m     \u001b[1;32mdef\u001b[0m \u001b[0mauto_run_pycodestyle\u001b[0m\u001b[1;33m(\u001b[0m\u001b[0mself\u001b[0m\u001b[1;33m,\u001b[0m \u001b[0mresult\u001b[0m\u001b[1;33m)\u001b[0m\u001b[1;33m:\u001b[0m\u001b[1;33m\u001b[0m\u001b[1;33m\u001b[0m\u001b[0m\n\u001b[1;32m---> 46\u001b[1;33m         \u001b[0mpycodestyle\u001b[0m\u001b[1;33m(\u001b[0m\u001b[1;36m1\u001b[0m\u001b[1;33m,\u001b[0m \u001b[0mresult\u001b[0m\u001b[1;33m.\u001b[0m\u001b[0minfo\u001b[0m\u001b[1;33m.\u001b[0m\u001b[0mraw_cell\u001b[0m\u001b[1;33m,\u001b[0m \u001b[0mauto\u001b[0m\u001b[1;33m=\u001b[0m\u001b[1;32mTrue\u001b[0m\u001b[1;33m)\u001b[0m\u001b[1;33m\u001b[0m\u001b[1;33m\u001b[0m\u001b[0m\n\u001b[0m\u001b[0;32m     47\u001b[0m         \u001b[1;32mif\u001b[0m \u001b[0mresult\u001b[0m\u001b[1;33m.\u001b[0m\u001b[0merror_before_exec\u001b[0m\u001b[1;33m:\u001b[0m\u001b[1;33m\u001b[0m\u001b[1;33m\u001b[0m\u001b[0m\n\u001b[0;32m     48\u001b[0m             \u001b[0mprint\u001b[0m\u001b[1;33m(\u001b[0m\u001b[1;34m'Error before execution: %s'\u001b[0m \u001b[1;33m%\u001b[0m \u001b[0mresult\u001b[0m\u001b[1;33m.\u001b[0m\u001b[0merror_before_exec\u001b[0m\u001b[1;33m)\u001b[0m\u001b[1;33m\u001b[0m\u001b[1;33m\u001b[0m\u001b[0m\n",
      "\u001b[1;32m~\\anaconda3\\lib\\site-packages\\decorator.py\u001b[0m in \u001b[0;36mfun\u001b[1;34m(*args, **kw)\u001b[0m\n\u001b[0;32m    230\u001b[0m             \u001b[1;32mif\u001b[0m \u001b[1;32mnot\u001b[0m \u001b[0mkwsyntax\u001b[0m\u001b[1;33m:\u001b[0m\u001b[1;33m\u001b[0m\u001b[1;33m\u001b[0m\u001b[0m\n\u001b[0;32m    231\u001b[0m                 \u001b[0margs\u001b[0m\u001b[1;33m,\u001b[0m \u001b[0mkw\u001b[0m \u001b[1;33m=\u001b[0m \u001b[0mfix\u001b[0m\u001b[1;33m(\u001b[0m\u001b[0margs\u001b[0m\u001b[1;33m,\u001b[0m \u001b[0mkw\u001b[0m\u001b[1;33m,\u001b[0m \u001b[0msig\u001b[0m\u001b[1;33m)\u001b[0m\u001b[1;33m\u001b[0m\u001b[1;33m\u001b[0m\u001b[0m\n\u001b[1;32m--> 232\u001b[1;33m             \u001b[1;32mreturn\u001b[0m \u001b[0mcaller\u001b[0m\u001b[1;33m(\u001b[0m\u001b[0mfunc\u001b[0m\u001b[1;33m,\u001b[0m \u001b[1;33m*\u001b[0m\u001b[1;33m(\u001b[0m\u001b[0mextras\u001b[0m \u001b[1;33m+\u001b[0m \u001b[0margs\u001b[0m\u001b[1;33m)\u001b[0m\u001b[1;33m,\u001b[0m \u001b[1;33m**\u001b[0m\u001b[0mkw\u001b[0m\u001b[1;33m)\u001b[0m\u001b[1;33m\u001b[0m\u001b[1;33m\u001b[0m\u001b[0m\n\u001b[0m\u001b[0;32m    233\u001b[0m     \u001b[0mfun\u001b[0m\u001b[1;33m.\u001b[0m\u001b[0m__name__\u001b[0m \u001b[1;33m=\u001b[0m \u001b[0mfunc\u001b[0m\u001b[1;33m.\u001b[0m\u001b[0m__name__\u001b[0m\u001b[1;33m\u001b[0m\u001b[1;33m\u001b[0m\u001b[0m\n\u001b[0;32m    234\u001b[0m     \u001b[0mfun\u001b[0m\u001b[1;33m.\u001b[0m\u001b[0m__doc__\u001b[0m \u001b[1;33m=\u001b[0m \u001b[0mfunc\u001b[0m\u001b[1;33m.\u001b[0m\u001b[0m__doc__\u001b[0m\u001b[1;33m\u001b[0m\u001b[1;33m\u001b[0m\u001b[0m\n",
      "\u001b[1;32m~\\anaconda3\\lib\\site-packages\\IPython\\core\\magic.py\u001b[0m in \u001b[0;36m<lambda>\u001b[1;34m(f, *a, **k)\u001b[0m\n\u001b[0;32m    218\u001b[0m     \u001b[1;31m# but it's overkill for just that one bit of state.\u001b[0m\u001b[1;33m\u001b[0m\u001b[1;33m\u001b[0m\u001b[0m\n\u001b[0;32m    219\u001b[0m     \u001b[1;32mdef\u001b[0m \u001b[0mmagic_deco\u001b[0m\u001b[1;33m(\u001b[0m\u001b[0marg\u001b[0m\u001b[1;33m)\u001b[0m\u001b[1;33m:\u001b[0m\u001b[1;33m\u001b[0m\u001b[1;33m\u001b[0m\u001b[0m\n\u001b[1;32m--> 220\u001b[1;33m         \u001b[0mcall\u001b[0m \u001b[1;33m=\u001b[0m \u001b[1;32mlambda\u001b[0m \u001b[0mf\u001b[0m\u001b[1;33m,\u001b[0m \u001b[1;33m*\u001b[0m\u001b[0ma\u001b[0m\u001b[1;33m,\u001b[0m \u001b[1;33m**\u001b[0m\u001b[0mk\u001b[0m\u001b[1;33m:\u001b[0m \u001b[0mf\u001b[0m\u001b[1;33m(\u001b[0m\u001b[1;33m*\u001b[0m\u001b[0ma\u001b[0m\u001b[1;33m,\u001b[0m \u001b[1;33m**\u001b[0m\u001b[0mk\u001b[0m\u001b[1;33m)\u001b[0m\u001b[1;33m\u001b[0m\u001b[1;33m\u001b[0m\u001b[0m\n\u001b[0m\u001b[0;32m    221\u001b[0m \u001b[1;33m\u001b[0m\u001b[0m\n\u001b[0;32m    222\u001b[0m         \u001b[1;31m# Find get_ipython() in the caller's namespace\u001b[0m\u001b[1;33m\u001b[0m\u001b[1;33m\u001b[0m\u001b[0m\n",
      "\u001b[1;32m~\\anaconda3\\lib\\site-packages\\pycodestyle_magic.py\u001b[0m in \u001b[0;36mpycodestyle\u001b[1;34m(line, cell, auto)\u001b[0m\n\u001b[0;32m    173\u001b[0m         \u001b[1;31m#logger.info(line)\u001b[0m\u001b[1;33m\u001b[0m\u001b[1;33m\u001b[0m\u001b[0m\n\u001b[0;32m    174\u001b[0m         \u001b[1;31m# on windows drive path also contains :\u001b[0m\u001b[1;33m\u001b[0m\u001b[1;33m\u001b[0m\u001b[0m\n\u001b[1;32m--> 175\u001b[1;33m         \u001b[0mline\u001b[0m\u001b[1;33m,\u001b[0m \u001b[0mcol\u001b[0m\u001b[1;33m,\u001b[0m \u001b[0merror\u001b[0m \u001b[1;33m=\u001b[0m \u001b[0mline\u001b[0m\u001b[1;33m.\u001b[0m\u001b[0msplit\u001b[0m\u001b[1;33m(\u001b[0m\u001b[1;34m':'\u001b[0m\u001b[1;33m)\u001b[0m\u001b[1;33m[\u001b[0m\u001b[1;33m-\u001b[0m\u001b[1;36m4\u001b[0m\u001b[1;33m:\u001b[0m\u001b[1;33m]\u001b[0m\u001b[1;33m\u001b[0m\u001b[1;33m\u001b[0m\u001b[0m\n\u001b[0m\u001b[0;32m    176\u001b[0m         \u001b[1;31m# do not subtract 1 for line for %%pycodestyle, inc pre py3.6 string\u001b[0m\u001b[1;33m\u001b[0m\u001b[1;33m\u001b[0m\u001b[0m\n\u001b[0;32m    177\u001b[0m         \u001b[1;32mif\u001b[0m \u001b[0mauto\u001b[0m\u001b[1;33m:\u001b[0m\u001b[1;33m\u001b[0m\u001b[1;33m\u001b[0m\u001b[0m\n",
      "\u001b[1;31mValueError\u001b[0m: too many values to unpack (expected 3)"
     ]
    }
   ],
   "source": [
    "def check_symmetric(M, rtol=1e-05, atol=1e-08):\n",
    "    \"\"\"\n",
    "        Funkcja sprawdzająca czy macierz jest symetryczna,\n",
    "        przy danej tolerancji.\n",
    "        input: M - macierz do sprawdzenia, rtol, atol - tolerancje\n",
    "    \"\"\"\n",
    "\n",
    "    if np.allclose(M, M.T, rtol=rtol, atol=atol):\n",
    "        print(\"Macierz symetryczna\")\n",
    "    else:\n",
    "        print(\"Macierz nie jest symetryczna\")\n",
    "\n",
    "\n",
    "def check_positive_definite(M, tol=1e-10):\n",
    "    \"\"\"\n",
    "        Funkcja sprawdzająca czy macierz jest dodatnio określona,\n",
    "        przy danej tolerancji.\n",
    "        input: M - macierz do sprawdzenia, tol - tolerancja\n",
    "        uwaga: jeśli wartości własne > 0 to macierz jest dodatnio określona\n",
    "    \"\"\"\n",
    "\n",
    "    if np.all(np.linalg.eigvals(M) > -tol):\n",
    "        print(\"Macierz dodatnio określona\")\n",
    "    else:\n",
    "        print(\"Macierz nie jest dodatnio określona\")\n",
    "\n",
    "\n",
    "def check_cond(M):\n",
    "    \"\"\"\n",
    "        Funkcja obliczająca uwarunkowanie macierzy.\n",
    "        input: M - macierz do sprawdzenia, rtol i atol- tolerancje\n",
    "    \"\"\"\n",
    "\n",
    "    print(\"test np.linalg.cond: \")\n",
    "    try:\n",
    "        cond = np.linalg.cond(M)\n",
    "        if cond < 1/np.finfo(M.dtype).eps:\n",
    "            print(\n",
    "                \"Macierz odwracalna, wyznacznik różny od zera,\"\n",
    "                \"uwarunkowanie równe: \", cond)\n",
    "        else:\n",
    "            print(\"Macierz nie jest odwracalna, wyznacznik równy zero,\"\n",
    "                  \"uwarunkowanie równe: \", cond)\n",
    "    except Exception :\n",
    "        print(\"nie udało się sprawdzić warunku uwarunkowania\")\n",
    "\n",
    "\n",
    "def test_mass_matrix(M, tol=1e-10, rtol=1e-05, atol=1e-08, h=1):\n",
    "    \"\"\"\n",
    "        Szereg testów dla macierzy masy.\n",
    "        Suma elementów macierzy masy musi być równa powierzchni obszaru,\n",
    "        który reprezentuje,\n",
    "        macierz masy jest symetryczna i dodatniookreślona.\n",
    "    \"\"\"\n",
    "\n",
    "    try:\n",
    "        M = M.toarray()  # z macierzy typu sparse do normalnej\n",
    "    except Exception :\n",
    "        pass\n",
    "    print(M)\n",
    "    check_symmetric(M, rtol, atol)\n",
    "    check_positive_definite(M, tol)\n",
    "    check_cond(M, rtol, atol)\n",
    "    print(\"Suma liczb macierzy masy to \", sum(sum(M)),\n",
    "          \"musi zgadzać się z powierzchnią obszaru (bez dziur) \"\n",
    "          \"jeśli jest to macierz masy globalna lub w przypadku \"\n",
    "          \"macierzy masy lokalnej jest to powierzchnia elementu.\")"
   ]
  },
  {
   "cell_type": "markdown",
   "id": "d680b614",
   "metadata": {},
   "source": [
    "<h3> Testy dla macierzy sztywności </h3>"
   ]
  },
  {
   "cell_type": "code",
   "execution_count": 25,
   "id": "ce534059",
   "metadata": {},
   "outputs": [],
   "source": [
    "def test_stiffness_matrix(A, h=1, tol=1e-10, rtol=1e-05, atol=1e-08):\n",
    "    \"\"\"\n",
    "        Szereg testów dla macierzy sztywności.\n",
    "        A - macierz sztywnośći, h - globalny rozmiar siatki,\n",
    "        pozostałe to opcjonalne tolerancje.\n",
    "\n",
    "    \"\"\"\n",
    "\n",
    "    try:\n",
    "        A = A.toarray()  # z macierzy typu sparse do normalnej\n",
    "    except Exception:\n",
    "        pass\n",
    "\n",
    "    print(A)\n",
    "    check_symmetric(A, rtol, atol)  # macierz sztywności jest symetryczna\n",
    "    # i dodatnio określona\n",
    "    check_positive_definite(A, tol)\n",
    "    # suma elementów w dowolnej kolumnie, w dowolnym wierszu = 0\n",
    "    print(\"sumujemy po kolumnach: \", np.sum(A, axis=0))\n",
    "    check_cond(A, rtol, atol)  # wyznacznik macierzy sztywności jest równy 0\n",
    "    # macierz sztywnosci nie ma zer, ani ujemnych wartosci na diagonali\n",
    "    print(\"wartości na diagonali: \", np.diagonal(A))"
   ]
  },
  {
   "cell_type": "markdown",
   "id": "0103301a-d5c1-4838-8e04-6d0047deac7c",
   "metadata": {},
   "source": [
    "<h3> Błąd w normie L2 </h3>"
   ]
  },
  {
   "cell_type": "code",
   "execution_count": 26,
   "id": "5d20899b-f360-43f6-91c3-088ea856c88a",
   "metadata": {},
   "outputs": [],
   "source": [
    "def L2_error(exact_sol, sol, M):\n",
    "    \"\"\"\n",
    "        Funkcja do liczenia błędów w normie L^{2}.\n",
    "        input:  exact_sol - np.array(), rozwiązanie dokładne;\n",
    "                sol - np.array(), rozwiązanie przybliżone;\n",
    "                M - macierz masy P1.\n",
    "        output: błąd w normie L^{2}.\n",
    "    \"\"\"\n",
    "\n",
    "    vector = exact_sol - sol\n",
    "    error = M.dot(vector)\n",
    "    error = Decimal(error.dot(vector)) ** (Decimal(1)/Decimal(2))\n",
    "\n",
    "    return float(error)"
   ]
  },
  {
   "cell_type": "markdown",
   "id": "3da3d5c2-5de4-4d5c-aa0e-fcb3b914ac7c",
   "metadata": {},
   "source": [
    "<h3> Błąd w normie H1 </h3>"
   ]
  },
  {
   "cell_type": "code",
   "execution_count": 28,
   "id": "a3343c82-1b9a-4947-807b-9bcdb16df32d",
   "metadata": {},
   "outputs": [],
   "source": [
    "def H1_error(exact_sol1, sol1, exact_sol2, sol2, M, A):\n",
    "    \"\"\"\n",
    "        Funkcja do liczenia błędów w normie H^{1}.\n",
    "        input:  exact_sol1, exact_sol2 - np.array(), rozwiązania dokładne;\n",
    "                sol1, sol2 - np.array(), rozwiązania przybliżone;\n",
    "                M - macierz masy P2, A - macierz sztywności P2.\n",
    "        output: błąd w normie H^{1}.\n",
    "    \"\"\"\n",
    "    print(exact_sol1.shape)\n",
    "    vector1 = exact_sol1 - sol1\n",
    "    L2error1 = M.dot(vector1)\n",
    "    L2error1 = Decimal(L2error1.dot(vector1))\n",
    "    grad_error1 = A.dot(vector1)\n",
    "    grad_error1 = Decimal(grad_error1.dot(vector1))\n",
    "\n",
    "    vector2 = exact_sol2 - sol2\n",
    "    L2error2 = M.dot(vector2)\n",
    "    L2error2 = Decimal(L2error2.dot(vector2))\n",
    "    grad_error2 = A.dot(vector2)\n",
    "    grad_error2 = Decimal(grad_error2.dot(vector2))\n",
    "\n",
    "    error = Decimal(L2error1 + grad_error1) ** (Decimal(1) / Decimal(2)) + \\\n",
    "        Decimal(L2error2 + grad_error2) ** (Decimal(1) / Decimal(2))\n",
    "\n",
    "    return float(error)"
   ]
  },
  {
   "cell_type": "markdown",
   "id": "03b2c8a0-4b06-4ac3-a6bd-138d56dd1e39",
   "metadata": {},
   "source": [
    "<h3> Błędy dla kolejnych siatek </h3>"
   ]
  },
  {
   "cell_type": "code",
   "execution_count": 31,
   "id": "719167d1-a3d2-43d9-ad2b-9cad2e788642",
   "metadata": {},
   "outputs": [
    {
     "name": "stderr",
     "output_type": "stream",
     "text": [
      "59:80: E501 line too long (81 > 79 characters)\n",
      "60:80: E501 line too long (81 > 79 characters)\n"
     ]
    }
   ],
   "source": [
    "def calculate_errors(arr_nodes, arr_P2nodes,\n",
    "                     arr_ksi_x, arr_ksi_y, arr_gamma,\n",
    "                     arr_P1_M, arr_P2_M, arr_P2_A):\n",
    "    \"\"\"\n",
    "        Funkcja do liczenia błędów, dla kolejnych siatek,\n",
    "        względem najgęstszej siatki.\n",
    "        input:  arr_nodes - list(), lista tablic węzłów P1;\n",
    "                arr_P2nodes - list(), lista tablic węzłów P2;\n",
    "                arr_ksi_x - list(), lista wektorów rozwiązań u1;\n",
    "                arr_ksi_y - list(), lista wektorów rozwiązań u2;\n",
    "                arr_gamma - list(), lista wektorów rozwiązań p;\n",
    "                arr_P1_M - list(), lista macierzy masy P1;\n",
    "                arr_P2_M - list(), lista macierzy masy P2;\n",
    "                arr_P2_A - list(), lista macierzy sztywności P2.\n",
    "        output: L2_errors - list(), lista błędów w normie L^{2};\n",
    "                H1_errors - list(), lista błędów w normie H^{1}.\n",
    "\n",
    "    \"\"\"\n",
    "\n",
    "    n = len(arr_nodes)  # liczba rozważanych siatek\n",
    "    # liczba rozważanych wierzchołków interpolacji dla P1\n",
    "    P1n_v = arr_nodes[0].shape[0]\n",
    "    # liczba rozważanych wierzchołków interpolacji dla P2\n",
    "    P2n_v = arr_P2nodes[0].shape[0]\n",
    "\n",
    "    P1_ind = []  # lista list węzłów dla każdej siatki,\n",
    "    # względem których liczymy błąd dla ciśnienia\n",
    "    P2_ind = []  # lista list węzłów dla każdej siatki,\n",
    "    # względem których liczymy błąd dla prędkości\n",
    "    for i in range(n):\n",
    "        P1_ind.append([])\n",
    "        P2_ind.append([])\n",
    "\n",
    "    L2_errors = []  # listy błędów dla kolejnych siatek\n",
    "    H1_errors = []\n",
    "\n",
    "    P1_M = arr_P1_M[0]  # macierze potrzebne do liczenia blędów\n",
    "    P2_M = arr_P2_M[0]\n",
    "    P2_A = arr_P2_A[0]\n",
    "\n",
    "    # Znajdujemy numery węzłów, względem których liczymy błąd\n",
    "\n",
    "    for i in range(arr_nodes[0].shape[0]):\n",
    "        P1_ind[0].append(i)\n",
    "    for i in range(arr_P2nodes[0].shape[0]):\n",
    "        P2_ind[0].append(i)\n",
    "\n",
    "    for k in range(1, n):\n",
    "\n",
    "        for i in range(arr_nodes[0].shape[0]):\n",
    "            for j in range(arr_nodes[k].shape[0]):\n",
    "                if math.isclose(arr_nodes[0][i, 0], arr_nodes[k][j, 0]) and \\\n",
    "                        math.isclose(arr_nodes[0][i, 1], arr_nodes[k][j, 1]):\n",
    "                    P1_ind[k].append(j)\n",
    "                    break\n",
    "\n",
    "        for i in range(arr_P2nodes[0].shape[0]):\n",
    "            for j in range(arr_P2nodes[k].shape[0]):\n",
    "                if math.isclose(arr_P2nodes[0][i, 0], arr_P2nodes[k][j, 0]) and \\\n",
    "                        math.isclose(arr_P2nodes[0][i, 1], arr_P2nodes[k][j, 1]):\n",
    "                    P2_ind[k].append(j)\n",
    "                    break\n",
    "\n",
    "    # Błędy dla kolejnych siatek\n",
    "\n",
    "    for k in range(0, n-1):\n",
    "        L2_errors.append(L2_error(arr_gamma[n-1][P1_ind[n-1]],\n",
    "                                  arr_gamma[k][P1_ind[k]], P1_M))\n",
    "\n",
    "        H1_errors.append(H1_error(arr_ksi_x[n-1][P2_ind[n-1]],\n",
    "                                  arr_ksi_x[k][P2_ind[k]],\n",
    "                                  arr_ksi_y[n-1][P2_ind[n-1]],\n",
    "                                  arr_ksi_y[k][P2_ind[k]], P2_M, P2_A))\n",
    "\n",
    "    return L2_errors, H1_errors"
   ]
  },
  {
   "cell_type": "markdown",
   "id": "931dc39c-3811-4f88-a3b9-63f3abc86d69",
   "metadata": {},
   "source": [
    "<h3> Błąd w normie supremum </h3>\n",
    "przepływ paraboliczny"
   ]
  },
  {
   "cell_type": "code",
   "execution_count": 33,
   "id": "97db0117-1a29-4b30-b7c3-bede558cc19d",
   "metadata": {},
   "outputs": [
    {
     "name": "stderr",
     "output_type": "stream",
     "text": [
      "29:80: E501 line too long (80 > 79 characters)\n"
     ]
    }
   ],
   "source": [
    "def parabolic_flow_supremum_error(ksi_x, ksi_y, gamma, P1nodes, P2nodes):\n",
    "    \"\"\"\n",
    "        Funkcja obliczająca błąd normy supremum dla poszczególnych\n",
    "        wektorów rozwiązania przepływu funkcji parabolicznej.\n",
    "        input: ksi_x - np.array(), wektor przybliżonego rozwiązania u_1;\n",
    "        ksi_y - np.array(), wektor przybliżonego rozwiązania u_2;\n",
    "        gamma - np.array(), wektor przybliżonego rozwiązania p;\n",
    "        P1nodes - np.array(), lista węzłów dla ciśnienia;\n",
    "        P2nodes - np.array(), ista węzłów dla prędkości.\n",
    "    \"\"\"\n",
    "\n",
    "    real_ksi_x = np.zeros([P2nodes.shape[0]])\n",
    "    real_ksi_y = np.zeros([P2nodes.shape[0]])\n",
    "    real_gamma = np.zeros([P1nodes.shape[0]])\n",
    "\n",
    "    # Obliczenie rozwiązań dokładnych\n",
    "\n",
    "    for i in range(len(P2nodes)):\n",
    "        real_ksi_x[i] = dirichlet_function(P2nodes[i, 1])\n",
    "\n",
    "    for i in range(len(P1nodes)):\n",
    "        real_gamma[i] = -2 * P2nodes[i, 0] + 2 * wall_right\n",
    "\n",
    "    # Obliczenie błędów w normie supremum\n",
    "\n",
    "    print('Błąd normy supremum wektora prędkości to ',\n",
    "          max(abs(real_ksi_x-ksi_x)) + max(abs(real_ksi_y-ksi_y)),\n",
    "          ' dla wartości ', real_ksi_x[np.argmax(max(abs(real_ksi_x-ksi_x))\n",
    "                                                 + max(abs(real_ksi_y-ksi_y)))])\n",
    "    print('Błąd normy supremum ciśnienia to ',\n",
    "          max(abs(real_gamma-gamma)), ' dla wartości ',\n",
    "          real_gamma[np.argmax(max(abs(real_gamma-gamma)))])"
   ]
  }
 ],
 "metadata": {
  "kernelspec": {
   "display_name": "Python 3 (ipykernel)",
   "language": "python",
   "name": "python3"
  },
  "language_info": {
   "codemirror_mode": {
    "name": "ipython",
    "version": 3
   },
   "file_extension": ".py",
   "mimetype": "text/x-python",
   "name": "python",
   "nbconvert_exporter": "python",
   "pygments_lexer": "ipython3",
   "version": "3.9.7"
  }
 },
 "nbformat": 4,
 "nbformat_minor": 5
}
